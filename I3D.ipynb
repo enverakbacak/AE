{
  "nbformat": 4,
  "nbformat_minor": 0,
  "metadata": {
    "colab": {
      "provenance": [],
      "gpuType": "T4",
      "authorship_tag": "ABX9TyMw9m1y6jjeazCGngq/DyEY",
      "include_colab_link": true
    },
    "kernelspec": {
      "name": "python3",
      "display_name": "Python 3"
    },
    "language_info": {
      "name": "python"
    },
    "accelerator": "GPU",
    "gpuClass": "standard"
  },
  "cells": [
    {
      "cell_type": "markdown",
      "metadata": {
        "id": "view-in-github",
        "colab_type": "text"
      },
      "source": [
        "<a href=\"https://colab.research.google.com/github/enverakbacak/AE/blob/main/I3D.ipynb\" target=\"_parent\"><img src=\"https://colab.research.google.com/assets/colab-badge.svg\" alt=\"Open In Colab\"/></a>"
      ]
    },
    {
      "cell_type": "code",
      "execution_count": 1,
      "metadata": {
        "id": "oJQzRmaiqRcA",
        "colab": {
          "base_uri": "https://localhost:8080/"
        },
        "outputId": "e6133ee0-826c-4877-eaf7-e4cb2bd1d88e"
      },
      "outputs": [
        {
          "output_type": "stream",
          "name": "stdout",
          "text": [
            "Mounted at /content/drive\n"
          ]
        }
      ],
      "source": [
        "from google.colab import drive\n",
        "drive.mount('/content/drive')"
      ]
    },
    {
      "cell_type": "code",
      "source": [
        "cd /content/drive/MyDrive/video/Notebooks/"
      ],
      "metadata": {
        "id": "7WzI4004qrAk",
        "colab": {
          "base_uri": "https://localhost:8080/"
        },
        "outputId": "fae85d44-77d1-4ad2-be2e-78f78b8515b1"
      },
      "execution_count": 2,
      "outputs": [
        {
          "output_type": "stream",
          "name": "stdout",
          "text": [
            "/content/drive/MyDrive/video/Notebooks\n"
          ]
        }
      ]
    },
    {
      "cell_type": "code",
      "source": [
        "pip install image-classifiers==0.2.2"
      ],
      "metadata": {
        "id": "dsy5AT5HsUrR",
        "colab": {
          "base_uri": "https://localhost:8080/"
        },
        "outputId": "654daf10-7c1e-4aed-8740-b604f2f3c69a"
      },
      "execution_count": 3,
      "outputs": [
        {
          "output_type": "stream",
          "name": "stdout",
          "text": [
            "Looking in indexes: https://pypi.org/simple, https://us-python.pkg.dev/colab-wheels/public/simple/\n",
            "Collecting image-classifiers==0.2.2\n",
            "  Downloading image_classifiers-0.2.2-py2.py3-none-any.whl (72 kB)\n",
            "\u001b[2K     \u001b[90m━━━━━━━━━━━━━━━━━━━━━━━━━━━━━━━━━━━━━━━━\u001b[0m \u001b[32m73.0/73.0 kB\u001b[0m \u001b[31m9.2 MB/s\u001b[0m eta \u001b[36m0:00:00\u001b[0m\n",
            "\u001b[?25hRequirement already satisfied: keras>=2.1.0 in /usr/local/lib/python3.10/dist-packages (from image-classifiers==0.2.2) (2.12.0)\n",
            "Installing collected packages: image-classifiers\n",
            "Successfully installed image-classifiers-0.2.2\n"
          ]
        }
      ]
    },
    {
      "cell_type": "code",
      "source": [
        "pip install image-classifiers==1.0.0b1"
      ],
      "metadata": {
        "id": "LBZR4BJMsZKq"
      },
      "execution_count": null,
      "outputs": []
    },
    {
      "cell_type": "code",
      "source": [
        "pip install git+https://github.com/qubvel/classification_models.git"
      ],
      "metadata": {
        "id": "INCn85B0sdBT",
        "colab": {
          "base_uri": "https://localhost:8080/"
        },
        "outputId": "3d29b9d4-84c2-408b-86e3-7b5dc436b02c"
      },
      "execution_count": 5,
      "outputs": [
        {
          "output_type": "stream",
          "name": "stdout",
          "text": [
            "Installing collected packages: keras_applications, image-classifiers\n",
            "  Attempting uninstall: image-classifiers\n",
            "    Found existing installation: image-classifiers 1.0.0b1\n",
            "    Uninstalling image-classifiers-1.0.0b1:\n",
            "      Successfully uninstalled image-classifiers-1.0.0b1\n",
            "Successfully installed image-classifiers-1.0.0 keras_applications-1.0.8\n"
          ]
        }
      ]
    },
    {
      "cell_type": "code",
      "source": [
        "pip install classification-models-3D"
      ],
      "metadata": {
        "id": "ZZy8btA0sqhy",
        "colab": {
          "base_uri": "https://localhost:8080/"
        },
        "outputId": "3fa9aa4e-ffd8-42ee-95bf-6afec1c43e64"
      },
      "execution_count": 6,
      "outputs": [
        {
          "output_type": "stream",
          "name": "stdout",
          "text": [
            "Looking in indexes: https://pypi.org/simple, https://us-python.pkg.dev/colab-wheels/public/simple/\n",
            "Collecting classification-models-3D\n",
            "  Downloading classification_models_3D-1.0.7-py3-none-any.whl (69 kB)\n",
            "\u001b[2K     \u001b[90m━━━━━━━━━━━━━━━━━━━━━━━━━━━━━━━━━━━━━━━━\u001b[0m \u001b[32m69.5/69.5 kB\u001b[0m \u001b[31m8.6 MB/s\u001b[0m eta \u001b[36m0:00:00\u001b[0m\n",
            "\u001b[?25hInstalling collected packages: classification-models-3D\n",
            "Successfully installed classification-models-3D-1.0.7\n"
          ]
        }
      ]
    },
    {
      "cell_type": "code",
      "source": [
        "from classification_models_3D.tfkeras import Classifiers\n",
        "\n",
        "ResNet18, preprocess_input = Classifiers.get('resnet18')\n",
        "model = ResNet18(input_shape=(10, 224, 224, 3), weights='imagenet')"
      ],
      "metadata": {
        "id": "mA5v4LW-stjT"
      },
      "execution_count": 10,
      "outputs": []
    },
    {
      "cell_type": "code",
      "source": [
        "model.summary()"
      ],
      "metadata": {
        "id": "qcP80M21s0U-"
      },
      "execution_count": null,
      "outputs": []
    }
  ]
}